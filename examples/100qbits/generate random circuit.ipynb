{
 "cells": [
  {
   "cell_type": "code",
   "execution_count": 19,
   "metadata": {
    "scrolled": false
   },
   "outputs": [
    {
     "name": "stdout",
     "output_type": "stream",
     "text": [
      "CNOT(qreg[19], qreg[57]);\n",
      "Z(qreg[54]);\n",
      "Y(qreg[45]);\n",
      "Y(qreg[67]);\n",
      "CNOT(qreg[79], qreg[23]);\n",
      "H(qreg[70]);\n",
      "CNOT(qreg[44], qreg[70]);\n",
      "CNOT(qreg[60], qreg[92]);\n",
      "CNOT(qreg[54], qreg[81]);\n",
      "H(qreg[99]);\n",
      "X(qreg[23]);\n",
      "X(qreg[24]);\n",
      "CNOT(qreg[68], qreg[59]);\n",
      "CNOT(qreg[63], qreg[13]);\n",
      "CNOT(qreg[37], qreg[1]);\n",
      "CNOT(qreg[37], qreg[48]);\n",
      "H(qreg[34]);\n",
      "X(qreg[5]);\n",
      "X(qreg[74]);\n",
      "CNOT(qreg[31], qreg[88]);\n",
      "H(qreg[34]);\n",
      "CNOT(qreg[70], qreg[60]);\n",
      "CNOT(qreg[92], qreg[95]);\n",
      "X(qreg[29]);\n",
      "Z(qreg[57]);\n",
      "CNOT(qreg[79], qreg[7]);\n",
      "CNOT(qreg[11], qreg[22]);\n",
      "X(qreg[95]);\n",
      "X(qreg[61]);\n",
      "Y(qreg[23]);\n",
      "CNOT(qreg[12], qreg[3]);\n",
      "Z(qreg[74]);\n",
      "CNOT(qreg[89], qreg[65]);\n",
      "Z(qreg[91]);\n",
      "CNOT(qreg[63], qreg[33]);\n",
      "CNOT(qreg[67], qreg[97]);\n",
      "X(qreg[43]);\n",
      "CNOT(qreg[74], qreg[90]);\n",
      "X(qreg[69]);\n",
      "H(qreg[47]);\n",
      "Y(qreg[48]);\n",
      "H(qreg[54]);\n",
      "Z(qreg[94]);\n",
      "CNOT(qreg[40], qreg[77]);\n",
      "CNOT(qreg[53], qreg[87]);\n",
      "CNOT(qreg[16], qreg[11]);\n",
      "Y(qreg[40]);\n",
      "X(qreg[9]);\n",
      "CNOT(qreg[24], qreg[63]);\n",
      "Y(qreg[43]);\n",
      "Y(qreg[3]);\n",
      "Z(qreg[91]);\n",
      "Y(qreg[70]);\n",
      "CNOT(qreg[57], qreg[7]);\n",
      "CNOT(qreg[82], qreg[86]);\n",
      "CNOT(qreg[76], qreg[62]);\n",
      "CNOT(qreg[29], qreg[68]);\n",
      "Z(qreg[62]);\n",
      "H(qreg[42]);\n",
      "Y(qreg[53]);\n",
      "CNOT(qreg[25], qreg[47]);\n",
      "H(qreg[19]);\n",
      "CNOT(qreg[29], qreg[54]);\n",
      "Y(qreg[23]);\n",
      "X(qreg[20]);\n",
      "Z(qreg[12]);\n",
      "Z(qreg[57]);\n",
      "Z(qreg[72]);\n",
      "CNOT(qreg[19], qreg[29]);\n",
      "CNOT(qreg[34], qreg[8]);\n",
      "CNOT(qreg[42], qreg[23]);\n",
      "CNOT(qreg[10], qreg[74]);\n",
      "CNOT(qreg[21], qreg[46]);\n",
      "X(qreg[77]);\n",
      "H(qreg[42]);\n",
      "H(qreg[39]);\n",
      "CNOT(qreg[86], qreg[25]);\n",
      "X(qreg[64]);\n",
      "Y(qreg[42]);\n"
     ]
    }
   ],
   "source": [
    "import random\n",
    "def rnd_instr(n_qbits):\n",
    "    gatetype = random.randint(1,2)\n",
    "    instr = None\n",
    "    if gatetype==1:\n",
    "        gatenames = ['H','X','Y','Z']\n",
    "        iqbit = random.randint(0,n_qbits-1)\n",
    "        instr = random.choice(gatenames)+'(qreg[%d]);'% iqbit\n",
    "    if gatetype==2:\n",
    "        gatenames = ['CNOT']\n",
    "        iqbits = random.sample(range(n_qbits),2)\n",
    "        instr = random.choice(gatenames)+'(qreg[%d], qreg[%d]);'% (iqbits[0],iqbits[1])\n",
    "    print(instr)\n",
    "\n",
    "n_qbits = 100\n",
    "n_instrs = 79\n",
    "for i in range(n_instrs):\n",
    "    rnd_instr(n_qbits)"
   ]
  },
  {
   "cell_type": "code",
   "execution_count": 13,
   "metadata": {},
   "outputs": [],
   "source": [
    "def memory_needed(nqbits):\n",
    "    nbytes_cplx = 8\n",
    "    return \"{:,} MB\".format(2**nqbits*nbytes_cplx/1024/1024)"
   ]
  },
  {
   "cell_type": "code",
   "execution_count": 18,
   "metadata": {},
   "outputs": [
    {
     "data": {
      "text/plain": [
       "'140,737,488,355,328.0 MB'"
      ]
     },
     "execution_count": 18,
     "metadata": {},
     "output_type": "execute_result"
    }
   ],
   "source": [
    "memory_needed(nqbits=64)"
   ]
  },
  {
   "cell_type": "code",
   "execution_count": null,
   "metadata": {
    "collapsed": true
   },
   "outputs": [],
   "source": []
  }
 ],
 "metadata": {
  "kernelspec": {
   "display_name": "Python 3",
   "language": "python",
   "name": "python3"
  },
  "language_info": {
   "codemirror_mode": {
    "name": "ipython",
    "version": 3
   },
   "file_extension": ".py",
   "mimetype": "text/x-python",
   "name": "python",
   "nbconvert_exporter": "python",
   "pygments_lexer": "ipython3",
   "version": "3.6.1"
  }
 },
 "nbformat": 4,
 "nbformat_minor": 2
}
