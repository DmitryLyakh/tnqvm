{
 "cells": [
  {
   "cell_type": "code",
   "execution_count": null,
   "metadata": {
    "collapsed": true
   },
   "outputs": [],
   "source": [
    "import random\n",
    "def rnd_instr(n_qbits):\n",
    "    gatetype = random.randint(1,2)\n",
    "    instr = None\n",
    "    if gatetype==1:\n",
    "        gatenames = ['H','X','Y','Z']\n",
    "        iqbit = random.randint(0,n_qbits-1)\n",
    "        instr = random.choice(gatenames)+'(qreg[%d]);'% iqbit\n",
    "    if gatetype==2:\n",
    "        gatenames = ['CNOT','SWAP']\n",
    "        iqbits = random.sample(range(n_qbits),2)\n",
    "        instr = random.choice(gatenames)+'(qreg[%d], qreg[%d]);'% (iqbits[0],iqbits[1])\n",
    "    print(instr)\n",
    "\n",
    "n_qbits = 16\n",
    "n_instrs = 30\n",
    "for i in range(n_instrs):\n",
    "    rnd_instr(n_qbits)"
   ]
  }
 ],
 "metadata": {
  "kernelspec": {
   "display_name": "Python 3",
   "language": "python",
   "name": "python3"
  },
  "language_info": {
   "codemirror_mode": {
    "name": "ipython",
    "version": 3
   },
   "file_extension": ".py",
   "mimetype": "text/x-python",
   "name": "python",
   "nbconvert_exporter": "python",
   "pygments_lexer": "ipython3",
   "version": "3.6.1"
  }
 },
 "nbformat": 4,
 "nbformat_minor": 2
}
