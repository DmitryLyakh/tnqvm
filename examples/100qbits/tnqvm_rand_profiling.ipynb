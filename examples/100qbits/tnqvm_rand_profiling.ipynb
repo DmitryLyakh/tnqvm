{
 "cells": [
  {
   "cell_type": "code",
   "execution_count": 15,
   "metadata": {},
   "outputs": [
    {
     "name": "stdout",
     "output_type": "stream",
     "text": [
      "The memory_profiler extension is already loaded. To reload it, use:\n",
      "  %reload_ext memory_profiler\n",
      "The line_profiler extension is already loaded. To reload it, use:\n",
      "  %reload_ext line_profiler\n"
     ]
    }
   ],
   "source": [
    "%load_ext memory_profiler\n",
    "%load_ext line_profiler\n",
    "import pyxacc as xacc\n",
    "xacc.Initialize(['--compiler','quil'])\n",
    "import random\n",
    "import numpy as np\n",
    "\n",
    "def random_circuit(n_qbits, ninsts, nearestNeighbor = True):\n",
    "    quilStr = '__qpu__ f(AcceleratorBuffer b) {\\n'\n",
    "    for i in range(ninsts):\n",
    "        gatetype = random.randint(1,2)\n",
    "        instr = None\n",
    "        if gatetype==1:\n",
    "            gatenames = ['H','X','Y','Z','RX','RY','RZ']\n",
    "            iqbit = random.randint(0,n_qbits-1)\n",
    "\n",
    "            gate = random.choice(gatenames)\n",
    "            if 'R' in gate:\n",
    "                angle = str(np.random.uniform(0,np.pi));\n",
    "                instr = gate + '('+angle+') %d'% iqbit\n",
    "            else:\n",
    "                instr = gate + ' %d'% iqbit\n",
    "        if gatetype==2:\n",
    "            gatenames = ['CNOT']\n",
    "            iqbits = random.sample(range(n_qbits),2)\n",
    "            plusoneminusone = 1 if random.randint(1,2) == 1 else -1\n",
    "            if plusoneminusone == 1 and iqbits[0]+1 == n_qbits:\n",
    "                plusoneminusone = -1\n",
    "            if plusoneminusone == -1 and iqbits[0] == 0:\n",
    "                plusoneminusone = 1\n",
    "            instr = random.choice(gatenames)+' %d %d'% (iqbits[0],iqbits[0]+plusoneminusone if nearestNeighbor else iqbits[1] )\n",
    "        quilStr += instr+'\\n'\n",
    "    quilStr += '}'\n",
    "    return quilStr\n"
   ]
  },
  {
   "cell_type": "code",
   "execution_count": 20,
   "metadata": {},
   "outputs": [
    {
     "name": "stdout",
     "output_type": "stream",
     "text": [
      "NQubits =  5 , NCNOTS =  87 , peak memory: 129.36 MiB, increment: 0.00 MiB\n",
      "NQubits =  10 , NCNOTS =  102 , peak memory: 129.36 MiB, increment: 0.00 MiB\n",
      "NQubits =  15 , NCNOTS =  87 , peak memory: 129.36 MiB, increment: 0.00 MiB\n",
      "NQubits =  20 , NCNOTS =  102 , peak memory: 129.36 MiB, increment: 0.00 MiB\n",
      "NQubits =  25 , NCNOTS =  106 , peak memory: 129.36 MiB, increment: 0.00 MiB\n",
      "NQubits =  30 , NCNOTS =  99 , peak memory: 129.36 MiB, increment: 0.00 MiB\n",
      "NQubits =  35 , NCNOTS =  101 , peak memory: 129.36 MiB, increment: 0.00 MiB\n",
      "NQubits =  40 , NCNOTS =  101 , peak memory: 129.36 MiB, increment: 0.00 MiB\n",
      "NQubits =  45 , NCNOTS =  97 , peak memory: 129.36 MiB, increment: 0.00 MiB\n",
      "NQubits =  50 , NCNOTS =  97 , peak memory: 129.36 MiB, increment: 0.00 MiB\n",
      "NQubits =  55 , NCNOTS =  93 , peak memory: 129.36 MiB, increment: 0.00 MiB\n",
      "NQubits =  60 , NCNOTS =  104 , peak memory: 129.36 MiB, increment: 0.00 MiB\n",
      "NQubits =  65 , NCNOTS =  99 , peak memory: 129.36 MiB, increment: 0.00 MiB\n",
      "NQubits =  70 , NCNOTS =  91 , peak memory: 129.36 MiB, increment: 0.00 MiB\n",
      "NQubits =  75 , NCNOTS =  106 , peak memory: 129.36 MiB, increment: 0.00 MiB\n",
      "NQubits =  80 , NCNOTS =  104 , peak memory: 129.36 MiB, increment: 0.00 MiB\n",
      "NQubits =  85 , NCNOTS =  100 , peak memory: 129.36 MiB, increment: 0.00 MiB\n",
      "NQubits =  90 , NCNOTS =  109 , peak memory: 129.36 MiB, increment: 0.00 MiB\n",
      "NQubits =  95 , NCNOTS =  101 , peak memory: 129.36 MiB, increment: 0.00 MiB\n",
      "NQubits =  100 , NCNOTS =  102 , peak memory: 129.36 MiB, increment: 0.00 MiB\n"
     ]
    }
   ],
   "source": [
    "qpu = xacc.getAccelerator('tnqvm')\n",
    "xacc.setOption('tnqvm-verbose','')\n",
    "for nq in list(range(5,105, 5)):\n",
    "    circ = random_circuit(nq,200)\n",
    "    ncnots = circ.count('CNOT')\n",
    "    f = xacc.compileKernel(qpu, circ)\n",
    "    buf = qpu.createBuffer('q',nq)\n",
    "    print('NQubits = ', nq, ', NCNOTS = ', ncnots, ', ', end='')\n",
    "    %memit qpu.execute(buf, f)\n"
   ]
  },
  {
   "cell_type": "code",
   "execution_count": 18,
   "metadata": {},
   "outputs": [
    {
     "name": "stdout",
     "output_type": "stream",
     "text": [
      "NQubits =  5 , NCNOTS =  41 , peak memory: 128.72 MiB, increment: 0.00 MiB\n",
      "NQubits =  10 , NCNOTS =  48 , peak memory: 128.72 MiB, increment: 0.00 MiB\n",
      "NQubits =  15 , NCNOTS =  55 , peak memory: 128.72 MiB, increment: 0.00 MiB\n",
      "NQubits =  20 , NCNOTS =  54 , peak memory: 137.60 MiB, increment: 8.88 MiB\n",
      "NQubits =  25 , NCNOTS =  63 , peak memory: 129.36 MiB, increment: 0.00 MiB\n"
     ]
    }
   ],
   "source": [
    "\n",
    "for nq in list(range(5,30, 5)):\n",
    "    circ = random_circuit(nq,100, False)\n",
    "    ncnots = circ.count('CNOT')\n",
    "    f = xacc.compileKernel(qpu, circ)\n",
    "    buf = qpu.createBuffer('q',nq)\n",
    "    print('NQubits = ', nq, ', NCNOTS = ', ncnots, ', ', end='')\n",
    "    %memit qpu.execute(buf, f)\n"
   ]
  },
  {
   "cell_type": "code",
   "execution_count": null,
   "metadata": {},
   "outputs": [],
   "source": []
  }
 ],
 "metadata": {
  "kernelspec": {
   "display_name": "Python 3",
   "language": "python",
   "name": "python3"
  },
  "language_info": {
   "codemirror_mode": {
    "name": "ipython",
    "version": 3
   },
   "file_extension": ".py",
   "mimetype": "text/x-python",
   "name": "python",
   "nbconvert_exporter": "python",
   "pygments_lexer": "ipython3",
   "version": "3.6.5"
  }
 },
 "nbformat": 4,
 "nbformat_minor": 2
}
